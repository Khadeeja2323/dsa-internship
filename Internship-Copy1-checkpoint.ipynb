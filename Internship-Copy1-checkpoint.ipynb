{
 "cells": [
  {
   "cell_type": "code",
   "execution_count": null,
   "id": "d4dbd511",
   "metadata": {},
   "outputs": [],
   "source": [
    "import csv\n",
    "import numpy as np\n",
    "from faker import Faker\n",
    "\n",
    "fake = Faker()\n",
    "\n",
    "# Create an empty list to store patient data\n",
    "patients = []\n",
    "\n",
    "# Generate data for 400,000 patients\n",
    "for _ in range(400000):\n",
    "    name = fake.name()\n",
    "    age = np.random.randint(18, 90)\n",
    "    gender = fake.random_element(elements=('Male', 'Female'))\n",
    "    race = fake.random_element(elements=('Caucasian', 'African American', 'Asian', 'Hispanic', 'Other'))\n",
    "    drug=fake.random_element(elements=('25dph-7.5peh','warfarin (bulk) 100 % powder','chantix','12 hour nasal relief spray ,non-aerosol','wymzya fe','pyrogallol crystals','lyza','lysiplex plus liquid','lysteda','pyrithione zinc shampoo'))\n",
    "    side_effects = ', '.join(fake.random_elements(elements=('Headache', 'Nausea', 'Fatigue', 'Fever','Drowsiness','Dizziness','dry mouth /nose/throat','upset stomach','constipation','Bloating'), unique=True))\n",
    "\n",
    "    # Append patient data to the list\n",
    "    patients.append([name, age, gender, race, drug, side_effects])\n",
    "\n",
    "# Define the CSV file name\n",
    "csv_file_name = 'Drug_Effects.csv'\n",
    "\n",
    "# Write the data to the CSV file\n",
    "with open(csv_file_name, mode='w', newline='') as csv_file:\n",
    "    csv_writer = csv.writer(csv_file)\n",
    "    \n",
    "    # Write the header row\n",
    "    csv_writer.writerow(['Name', 'Age', 'Gender', 'Race','Drug', 'Side Effects'])\n",
    "    \n",
    "    # Write the patient data\n",
    "    csv_writer.writerows(patients)\n",
    "\n",
    "print(f\"CSV file '{csv_file_name}' has been created.\")\n"
   ]
  },
  {
   "cell_type": "code",
   "execution_count": null,
   "id": "13cf19b9",
   "metadata": {},
   "outputs": [],
   "source": [
    "import pandas as pd"
   ]
  },
  {
   "cell_type": "code",
   "execution_count": null,
   "id": "43860777",
   "metadata": {},
   "outputs": [],
   "source": [
    "csv_file_name='Drug_Effects.csv'\n",
    "data=pd.read_csv(csv_file_name)"
   ]
  },
  {
   "cell_type": "code",
   "execution_count": null,
   "id": "09dad1c3",
   "metadata": {},
   "outputs": [],
   "source": [
    "##preview the data\n",
    "data.head()"
   ]
  },
  {
   "cell_type": "code",
   "execution_count": null,
   "id": "7f21df26",
   "metadata": {},
   "outputs": [],
   "source": [
    "##total rows and columns\n",
    "data.shape"
   ]
  },
  {
   "cell_type": "code",
   "execution_count": null,
   "id": "718062d3",
   "metadata": {},
   "outputs": [],
   "source": [
    "data.info()"
   ]
  },
  {
   "cell_type": "code",
   "execution_count": null,
   "id": "94a61263",
   "metadata": {},
   "outputs": [],
   "source": [
    "##summary statistics\n",
    "data.describe()"
   ]
  },
  {
   "cell_type": "code",
   "execution_count": null,
   "id": "8ae2cb58",
   "metadata": {},
   "outputs": [],
   "source": [
    "##check datatypes\n",
    "data.dtypes"
   ]
  },
  {
   "cell_type": "code",
   "execution_count": null,
   "id": "db58ec47",
   "metadata": {},
   "outputs": [],
   "source": [
    "##checking missing values\n",
    "data.isnull().sum()"
   ]
  },
  {
   "cell_type": "code",
   "execution_count": null,
   "id": "a69adbee",
   "metadata": {},
   "outputs": [],
   "source": [
    "##dropping duplicate values\n",
    "data=data.drop_duplicates()\n",
    "data"
   ]
  },
  {
   "cell_type": "code",
   "execution_count": null,
   "id": "f7bba936",
   "metadata": {},
   "outputs": [],
   "source": [
    "data.shape"
   ]
  },
  {
   "cell_type": "code",
   "execution_count": null,
   "id": "abc5ab8c",
   "metadata": {},
   "outputs": [],
   "source": [
    "data.nunique()"
   ]
  },
  {
   "cell_type": "code",
   "execution_count": null,
   "id": "56eb67e3",
   "metadata": {},
   "outputs": [],
   "source": [
    "data.sort_values(by=\"Age\",ascending=True).head()"
   ]
  },
  {
   "cell_type": "code",
   "execution_count": null,
   "id": "9b4adcaf",
   "metadata": {},
   "outputs": [],
   "source": [
    "data.sort_values(by=\"Name\",ascending=True).head()"
   ]
  },
  {
   "cell_type": "code",
   "execution_count": null,
   "id": "1b3307cf",
   "metadata": {},
   "outputs": [],
   "source": [
    "import matplotlib.pyplot as plt\n",
    "import seaborn as sns\n",
    "\n",
    "# Example: Create a histogram for a numeric column\n",
    "sns.histplot(data['Age'], bins=20, kde=True)\n",
    "plt.xlabel('Age')\n",
    "plt.ylabel('Frequency')\n",
    "plt.title('Age Distribution')\n",
    "plt.show()"
   ]
  },
  {
   "cell_type": "code",
   "execution_count": null,
   "id": "aeff6ed9",
   "metadata": {},
   "outputs": [],
   "source": [
    "# Age distribution\n",
    "sns.histplot(data['Age'], bins=20, kde=True)\n",
    "plt.title('Age Distribution')\n",
    "plt.xlabel('Age')\n",
    "plt.ylabel('Frequency')\n",
    "plt.show()\n"
   ]
  },
  {
   "cell_type": "code",
   "execution_count": null,
   "id": "ba94db2e",
   "metadata": {},
   "outputs": [],
   "source": [
    "# Gender distribution\n",
    "sns.countplot(data=data, x='Gender')\n",
    "plt.title('Gender Distribution')\n",
    "plt.xlabel('Gender')\n",
    "plt.ylabel('Count')\n",
    "plt.show()"
   ]
  },
  {
   "cell_type": "code",
   "execution_count": null,
   "id": "05ad94e0",
   "metadata": {},
   "outputs": [],
   "source": [
    "##removing outlier using z-score\n",
    "from scipy import stats\n",
    "z_scores=stats.zscore(data['Age'])\n",
    "data=data[z_scores<3]"
   ]
  },
  {
   "cell_type": "code",
   "execution_count": null,
   "id": "b54734fd",
   "metadata": {},
   "outputs": [],
   "source": [
    "data"
   ]
  },
  {
   "cell_type": "code",
   "execution_count": null,
   "id": "b0cb369b",
   "metadata": {},
   "outputs": [],
   "source": [
    "data.shape"
   ]
  },
  {
   "cell_type": "code",
   "execution_count": null,
   "id": "396f69e0",
   "metadata": {},
   "outputs": [],
   "source": [
    "correlation_matrix = data.corr()\n",
    "plt.figure(figsize=(10, 6))\n",
    "sns.heatmap(data=correlation_matrix, annot=True, cmap='coolwarm', linewidths=.5)\n",
    "plt.title('Correlation Matrix')\n",
    "plt.show()"
   ]
  },
  {
   "cell_type": "code",
   "execution_count": null,
   "id": "eab134e2",
   "metadata": {},
   "outputs": [],
   "source": [
    "from sklearn.preprocessing import StandardScaler, LabelEncoder\n",
    "from sklearn.model_selection import train_test_split\n",
    "le = LabelEncoder()\n",
    "data['Gender'] = le.fit_transform(data['Gender'])\n",
    "\n",
    "data = pd.get_dummies(data, columns=['Race'], prefix='Race')\n",
    "\n",
    "# 3. Feature Scaling \n",
    "scaler = StandardScaler()\n",
    "numeric_columns=data.select_dtypes(include=['number']).columns\n",
    "data[numeric_columns] = scaler.fit_transform(data[numeric_columns])\n",
    "\n",
    "# Split the dataset into features (X) and target (y)\n",
    "X = data.drop(columns=['Side Effects'])\n",
    "y = data['Side Effects']\n",
    "\n",
    "# Split the dataset into training and testing sets (adjust the test_size as needed)\n",
    "X_train, X_test, y_train, y_test = train_test_split(X, y, test_size=0.2, random_state=42)\n",
    "print(\"X_train shape:\", X_train.shape)\n",
    "print(\"X_test shape:\", X_test.shape)\n",
    "print(\"y_train shape:\", y_train.shape)\n",
    "print(\"y_test shape:\", y_test.shape)\n"
   ]
  }
 ],
 "metadata": {
  "kernelspec": {
   "display_name": "Python 3 (ipykernel)",
   "language": "python",
   "name": "python3"
  },
  "language_info": {
   "codemirror_mode": {
    "name": "ipython",
    "version": 3
   },
   "file_extension": ".py",
   "mimetype": "text/x-python",
   "name": "python",
   "nbconvert_exporter": "python",
   "pygments_lexer": "ipython3",
   "version": "3.11.3"
  }
 },
 "nbformat": 4,
 "nbformat_minor": 5
}
